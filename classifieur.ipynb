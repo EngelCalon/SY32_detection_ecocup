{
 "cells": [
  {
   "cell_type": "markdown",
   "id": "b72b5695",
   "metadata": {},
   "source": [
    "# Construction du classifieur\n"
   ]
  },
  {
   "cell_type": "code",
   "execution_count": null,
   "id": "4bbfb84e",
   "metadata": {},
   "outputs": [],
   "source": [
    "import matplotlib.pyplot as plt\n",
    "import matplotlib.patches as patches\n",
    "import numpy as np\n",
    "import random\n",
    "import pandas as pd\n",
    "import cv2\n",
    "import os\n",
    "\n",
    "from sklearn.metrics import (\n",
    "    accuracy_score,\n",
    "    recall_score,\n",
    "    precision_score,\n",
    "    average_precision_score,\n",
    ")\n",
    "from sklearn.tree import DecisionTreeClassifier\n",
    "from sklearn.ensemble import RandomForestClassifier\n",
    "from sklearn.neighbors import KNeighborsClassifier\n",
    "from sklearn.svm import SVC\n",
    "from sklearn.svm import LinearSVC\n",
    "from sklearn.linear_model import LogisticRegression\n",
    "from sklearn.ensemble import AdaBoostClassifier\n",
    "from sklearn.ensemble import GradientBoostingClassifier"
   ]
  },
  {
   "cell_type": "markdown",
   "id": "57e83910",
   "metadata": {},
   "source": [
    "## Récupération des jeux\n"
   ]
  },
  {
   "cell_type": "code",
   "execution_count": 2,
   "id": "0d8200b0",
   "metadata": {},
   "outputs": [
    {
     "name": "stdout",
     "output_type": "stream",
     "text": [
      "['0000.csv', '0001.csv', '0002.csv', '0003.csv', '0004.csv', '0005.csv', '0006.csv', '0007.csv', '0008.csv', '0009.csv', '0010.csv', '0011.csv', '0012.csv', '0013.csv', '0014.csv', '0015.csv', '0016.csv', '0017.csv', '0018.csv', '0019.csv', '0020.csv', '0021.csv', '0022.csv', '0023.csv', '0024.csv', '0025.csv', '0026.csv', '0027.csv', '0028.csv', '0029.csv', '0030.csv', '0031.csv', '0032.csv', '0033.csv', '0034.csv', '0035.csv', '0036.csv', '0037.csv', '0038.csv', '0039.csv', '0040.csv', '0041.csv', '0042.csv', '0043.csv', '0044.csv', '0045.csv', '0046.csv', '0047.csv', '0048.csv', '0049.csv', '0050.csv', '0051.csv', '0052.csv', '0053.csv', '0054.csv', '0055.csv', '0056.csv', '0057.csv', '0058.csv', '0059.csv', '0060.csv', '0061.csv', '0062.csv', '0063.csv', '0064.csv', '0065.csv', '0066.csv', '0067.csv', '0068.csv', '0069.csv', '0070.csv', '0071.csv', '0072.csv', '0073.csv', '0074.csv', '0075.csv', '0076.csv', '0077.csv', '0078.csv', '0079.csv', '0080.csv', '0081.csv', '0082.csv', '0083.csv', '0084.csv', '0085.csv', '0086.csv', '0087.csv', '0088.csv', '0089.csv', '0090.csv', '0091.csv', '0092.csv', '0093.csv', '0094.csv', '0095.csv', '0096.csv', '0097.csv', '0098.csv', '0099.csv', '0100.csv', '0101.csv', '0102.csv', '0103.csv', '0104.csv', '0105.csv', '0106.csv', '0107.csv', '0108.csv', '0109.csv', '0110.csv', '0111.csv', '0112.csv', '0113.csv', '0114.csv', '0115.csv', '0116.csv', '0117.csv', '0118.csv', '0119.csv', '0120.csv', '0121.csv', '0122.csv', '0123.csv', '0124.csv', '0125.csv', '0126.csv', '0127.csv', '0128.csv', '0129.csv', '0130.csv', '0131.csv', '0132.csv', '0133.csv', '0134.csv', '0135.csv', '0136.csv', '0137.csv', '0138.csv', '0139.csv', '0140.csv', '0141.csv', '0142.csv', '0143.csv', '0144.csv', '0145.csv', '0146.csv', '0147.csv', '0148.csv', '0149.csv', '0150.csv', '0151.csv', '0152.csv', '0153.csv', '0154.csv', '0155.csv', '0156.csv', '0157.csv', '0158.csv', '0159.csv', '0160.csv', '0161.csv', '0162.csv', '0163.csv', '0164.csv', '0165.csv', '0166.csv', '0167.csv', '0168.csv', '0169.csv', '0170.csv', '0171.csv', '0172.csv', '0173.csv', '0174.csv', '0175.csv', '0176.csv', '0177.csv', '0178.csv', '0179.csv', '0180.csv', '0181.csv', '0182.csv', '0183.csv', '0184.csv', '0185.csv', '0186.csv', '0187.csv', '0188.csv', '0189.csv', '0190.csv', '0191.csv', '0192.csv', '0193.csv', '0194.csv', '0195.csv', '0196.csv', '0197.csv', '0198.csv', '0199.csv', '0200.csv', '0201.csv', '0202.csv', '0203.csv', '0204.csv', '0205.csv', '0206.csv', '0207.csv', '0208.csv', '0209.csv', '0210.csv', '0211.csv', '0212.csv', '0213.csv', '0214.csv', '0215.csv', '0216.csv', '0217.csv', '0218.csv', '0219.csv', '0220.csv', '0221.csv', '0222.csv', '0223.csv', '0224.csv', '0225.csv', '0226.csv', '0227.csv', '0228.csv', '0229.csv', '0230.csv', '0231.csv', '0232.csv', '0233.csv', '0234.csv', '0235.csv', '0236.csv', '0237.csv', '0238.csv', '0239.csv', '0240.csv', '0241.csv', '0242.csv', '0243.csv', '0244.csv', '0245.csv', '0246.csv', '0247.csv', '0248.csv', '0249.csv', '0250.csv', '0251.csv', '0252.csv', '0253.csv', '0254.csv', '0255.csv', '0256.csv', '0257.csv', '0258.csv', '0259.csv', '0260.csv', '0261.csv', '0262.csv', '0263.csv', '0264.csv', '0265.csv', '0266.csv', '0267.csv', '0268.csv', '0269.csv', '0270.csv', '0271.csv', '0272.csv', '0273.csv', '0274.csv', '0275.csv', '0276.csv', '0277.csv', '0278.csv', '0279.csv', '0280.csv', '0281.csv', '0282.csv', '0283.csv', '0284.csv', '0285.csv', '0286.csv', '0287.csv', '0288.csv', '0289.csv', '0290.csv', '0291.csv', '0292.csv', '0293.csv', '0294.csv', '0295.csv', '0296.csv', '0297.csv', '0298.csv', '0299.csv', '0300.csv', '0301.csv', '0302.csv', '0303.csv', '0304.csv', '0305.csv', '0306.csv', '0307.csv', '0308.csv', '0309.csv', '0310.csv', '0311.csv', '0312.csv']\n"
     ]
    }
   ],
   "source": [
    "f_labels = [\n",
    "    f\n",
    "    for f in os.listdir(os.path.join(\"data\", \"train\", \"labels_csv\"))\n",
    "    if f.endswith(\".csv\")\n",
    "]\n",
    "print(f_labels)\n",
    "\n",
    "\n",
    "img_pos_train = []\n",
    "\n",
    "\n",
    "img_neg_train = []\n",
    "\n",
    "\n",
    "bbox_train = []\n",
    "\n",
    "\n",
    "for f in f_labels:\n",
    "\n",
    "    try:\n",
    "\n",
    "        img_pos = plt.imread(\n",
    "            os.path.join(\"data\", \"train\", \"images\", \"pos\", f.replace(\".csv\", \".jpg\"))\n",
    "        )\n",
    "        img_pos_train.append(img_pos)\n",
    "\n",
    "    except FileNotFoundError:\n",
    "\n",
    "        continue\n",
    "\n",
    "    try:\n",
    "\n",
    "        img_neg = plt.imread(\n",
    "            os.path.join(\"data\", \"train\", \"images\", \"neg\", f.replace(\".csv\", \".jpg\"))\n",
    "        )\n",
    "        img_neg_train.append(img_neg)\n",
    "\n",
    "    except FileNotFoundError:\n",
    "\n",
    "        continue\n",
    "\n",
    "    bbox = np.loadtxt(os.path.join(\"data\", \"train\", \"labels_csv\", f), delimiter=\",\")\n",
    "\n",
    "    bbox_train.append(bbox)"
   ]
  },
  {
   "cell_type": "markdown",
   "id": "d4782121",
   "metadata": {},
   "source": [
    "## Découper les écocups et les négatifs\n"
   ]
  },
  {
   "cell_type": "markdown",
   "id": "213a90eb",
   "metadata": {},
   "source": [
    "## Obtenir des features\n"
   ]
  },
  {
   "cell_type": "markdown",
   "id": "91ee6306",
   "metadata": {},
   "source": [
    "## Diviser les jeux pour obtenir un jeu de validation\n"
   ]
  },
  {
   "cell_type": "markdown",
   "id": "1099bdaf",
   "metadata": {},
   "source": [
    "## Choix du classifieur\n"
   ]
  },
  {
   "cell_type": "markdown",
   "id": "f7ae0856",
   "metadata": {},
   "source": [
    "Nous allons choisir le classifieur le plus efficace parmis un certain nombre de classifieurs\n"
   ]
  },
  {
   "cell_type": "code",
   "execution_count": null,
   "id": "25a43691",
   "metadata": {},
   "outputs": [],
   "source": [
    "def test_model(\n",
    "    name, model, X_train, y_train, X_validation, y_validation, df_resultat_clf\n",
    "):\n",
    "\n",
    "    print(f\"Testing {name}...\")\n",
    "\n",
    "    model.fit(X_train, y_train)\n",
    "\n",
    "    y_pred = model.predict(X_validation)\n",
    "\n",
    "    accuracy = accuracy_score(y_validation, y_pred)\n",
    "\n",
    "    error = (1 - accuracy) * 100\n",
    "    # Calculer le rappel et la précision\n",
    "    rappel = recall_score(y_validation, y_pred)\n",
    "    precision = precision_score(y_validation, y_pred)\n",
    "    f1_score = 2 * (precision * rappel) / (precision + rappel)\n",
    "    average_precision_score = average_precision_score(y_validation, y_pred)\n",
    "\n",
    "    df_resultat_clf = pd.concat(\n",
    "        [\n",
    "            df_resultat_clf,\n",
    "            pd.DataFrame(\n",
    "                [\n",
    "                    {\n",
    "                        \"model\": name,\n",
    "                        \"accuracy\": accuracy,\n",
    "                        \"error%\": error,\n",
    "                        \"rappel\": rappel,\n",
    "                        \"precision\": precision,\n",
    "                        \"f1_score\": f1_score,\n",
    "                        \"average_precision_score\": average_precision_score,\n",
    "                    }\n",
    "                ]\n",
    "            ),\n",
    "        ],\n",
    "        ignore_index=True,\n",
    "    )\n",
    "    return df_resultat_clf"
   ]
  },
  {
   "cell_type": "code",
   "execution_count": null,
   "id": "c07dcce2",
   "metadata": {},
   "outputs": [],
   "source": [
    "def get_models_dict():\n",
    "\n",
    "    models_dict = {}\n",
    "    # KNN\n",
    "    neighbors_list = [3, 5, 10, 15, 20, 25, 50, 75, 100, 150, 200, 250, 300]\n",
    "    for neighbors in neighbors_list:\n",
    "        knn = KNeighborsClassifier(n_neighbors=neighbors)\n",
    "        models_dict[f\"KNN (k={neighbors})\"] = knn\n",
    "\n",
    "    # Decision Tree\n",
    "    decision_tree = DecisionTreeClassifier()\n",
    "    models_dict[\"Decision Tree\"] = decision_tree\n",
    "\n",
    "    # Random Forest\n",
    "    estimators_list = [3, 5, 10, 15, 20, 25, 50, 75, 100, 150, 200, 250, 300]\n",
    "    for estimators in estimators_list:\n",
    "        random_forest = RandomForestClassifier(n_estimators=estimators)\n",
    "        models_dict[f\"Random Forest (n_estimators={estimators})\"] = random_forest\n",
    "\n",
    "    # SVC\n",
    "    svc = SVC()\n",
    "    models_dict[\"SVC\"] = svc\n",
    "\n",
    "    # LinearSVC\n",
    "    linear_svc = LinearSVC()\n",
    "    models_dict[\"Linear SVC\"] = linear_svc\n",
    "\n",
    "    # SVC kernel\n",
    "    svc_kernel_list = [\"poly\", \"rbf\", \"sigmoid\"]\n",
    "    for kernel in svc_kernel_list:\n",
    "        svc_kernel = SVC(kernel=kernel)\n",
    "        models_dict[f\"SVC (kernel={kernel})\"] = svc_kernel\n",
    "\n",
    "    # Logistic Regression\n",
    "    iter_list = [25, 50, 100, 200, 300, 400, 500]\n",
    "    for n_iter in iter_list:\n",
    "        logistic_regression = LogisticRegression(max_iter=n_iter)\n",
    "        models_dict[f\"Logistic Regression (max_iter={n_iter})\"] = logistic_regression\n",
    "\n",
    "    # AdaBoost\n",
    "    estimators_list = [10, 25, 50, 100, 150, 200, 250]\n",
    "    for estimators in estimators_list:\n",
    "        ada_boost = AdaBoostClassifier(n_estimators=estimators)\n",
    "        models_dict[f\"AdaBoost (n_estimators={estimators})\"] = ada_boost\n",
    "\n",
    "    # Gradient Boosting\n",
    "    learning_rate_list = [0.01, 0.05, 0.1, 0.2, 0.3, 0.4, 0.5]\n",
    "    for learning_rate in learning_rate_list:\n",
    "        gradient_boosting = GradientBoostingClassifier(learning_rate=learning_rate)\n",
    "        models_dict[f\"Gradient Boosting (learning_rate={learning_rate})\"] = (\n",
    "            gradient_boosting\n",
    "        )\n",
    "\n",
    "    return models_dict"
   ]
  },
  {
   "cell_type": "code",
   "execution_count": null,
   "id": "aae00bab",
   "metadata": {},
   "outputs": [],
   "source": [
    "# df_resultat_clf = pd.DataFrame(\n",
    "#     columns=[\"model\", \"accuracy\", \"error%\", \"rappel\", \"precision\", \"f1_score\", \"average_precision_score\"]\n",
    "# )\n",
    "\n",
    "# models_dict = get_models_dict()\n",
    "# for name, model in models_dict.items():\n",
    "#     df_resultat_clf = test_model(\n",
    "#         name, model, X_train, y_train, X_validation, y_validation, df_resultat_clf\n",
    "#     )\n",
    "\n",
    "# df_resultat_clf = df_resultat_clf.sort_values(by=\"error%\")\n",
    "# print(df_resultat_clf)"
   ]
  }
 ],
 "metadata": {
  "kernelspec": {
   "display_name": "Python 3",
   "language": "python",
   "name": "python3"
  },
  "language_info": {
   "codemirror_mode": {
    "name": "ipython",
    "version": 3
   },
   "file_extension": ".py",
   "mimetype": "text/x-python",
   "name": "python",
   "nbconvert_exporter": "python",
   "pygments_lexer": "ipython3",
   "version": "3.11.9"
  }
 },
 "nbformat": 4,
 "nbformat_minor": 5
}
