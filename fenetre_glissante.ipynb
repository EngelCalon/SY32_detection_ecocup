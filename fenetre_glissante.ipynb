{
 "cells": [
  {
   "cell_type": "code",
   "execution_count": 1,
   "id": "68eebfda",
   "metadata": {},
   "outputs": [],
   "source": [
    "import matplotlib.pyplot as plt\n",
    "import matplotlib.patches as patches\n",
    "import numpy as np\n",
    "import random\n",
    "import pandas as pd\n",
    "import cv2\n",
    "import os\n",
    "from skimage import io, util\n",
    "from skimage.transform import resize\n",
    "\n",
    "\n",
    "from sklearn.metrics import (\n",
    "    accuracy_score,\n",
    "    recall_score,\n",
    "    precision_score,\n",
    "    average_precision_score,\n",
    ")\n",
    "from sklearn.tree import DecisionTreeClassifier\n",
    "from sklearn.ensemble import RandomForestClassifier\n",
    "from sklearn.neighbors import KNeighborsClassifier\n",
    "from sklearn.svm import SVC\n",
    "from sklearn.svm import LinearSVC\n",
    "from sklearn.linear_model import LogisticRegression\n",
    "from sklearn.ensemble import AdaBoostClassifier\n",
    "from sklearn.ensemble import GradientBoostingClassifier\n",
    "\n",
    "from utils.detection import detect_ecocup"
   ]
  },
  {
   "cell_type": "markdown",
   "id": "c97b497e",
   "metadata": {},
   "source": [
    "On va tester un classifieur choisi arbitrairement pour tester l'algorithme de fenetre glissante\n"
   ]
  },
  {
   "cell_type": "code",
   "execution_count": 2,
   "id": "e1030428",
   "metadata": {},
   "outputs": [],
   "source": [
    "# Lire toutes les images dans le dossier\n",
    "def read_images_from_folder(folder):\n",
    "    images = []\n",
    "    for filename in os.listdir(folder):\n",
    "        img_path = os.path.join(folder, filename)\n",
    "        if os.path.isfile(img_path):\n",
    "            img = io.imread(img_path)\n",
    "            if img is not None:\n",
    "                images.append(img)\n",
    "    return images\n",
    "\n",
    "\n",
    "pos = read_images_from_folder(\"local_data/4_normalized_patches/pos\")\n",
    "neg = read_images_from_folder(\"local_data/4_normalized_patches/neg\")"
   ]
  },
  {
   "cell_type": "code",
   "execution_count": 3,
   "id": "e2cc79d4",
   "metadata": {},
   "outputs": [],
   "source": [
    "y = [1 for _ in range(len(pos))] + [0 for _ in range(len(neg))]\n",
    "X = pos + neg\n",
    "\n",
    "# Suffle les données\n",
    "indices = np.arange(len(X))\n",
    "np.random.shuffle(indices)\n",
    "X_shuffled = np.array(X)[indices]\n",
    "y_shuffled = np.array(y)[indices]\n",
    "\n",
    "# creer un jeu d'entrainement et un jeu de test\n",
    "split_index = int(0.8 * len(X_shuffled))\n",
    "X_train = X_shuffled[:split_index]\n",
    "y_train = y_shuffled[:split_index]\n",
    "X_test = X_shuffled[split_index:]\n",
    "y_test = y_shuffled[split_index:]\n",
    "\n",
    "# flatten\n",
    "X_train_flat = np.array([img.flatten() for img in X_train])\n",
    "X_test_flat = np.array([img.flatten() for img in X_test])"
   ]
  },
  {
   "cell_type": "code",
   "execution_count": null,
   "id": "410be3a5",
   "metadata": {},
   "outputs": [],
   "source": [
    "clf = RandomForestClassifier(\n",
    "    n_estimators=100,\n",
    ")\n",
    "clf.fit(X_train_flat, y_train)"
   ]
  },
  {
   "cell_type": "code",
   "execution_count": null,
   "id": "a07a8fe4",
   "metadata": {},
   "outputs": [
    {
     "name": "stdout",
     "output_type": "stream",
     "text": [
      "Accuracy: 0.91\n",
      "Recall: 0.46\n",
      "Precision: 0.98\n",
      "Average Precision: 0.55\n"
     ]
    }
   ],
   "source": [
    "# Tester le classifieur\n",
    "y_pred = clf.predict(X_test_flat)\n",
    "# Calculer les métriques\n",
    "accuracy = accuracy_score(y_test, y_pred)\n",
    "recall = recall_score(y_test, y_pred)\n",
    "precision = precision_score(y_test, y_pred)\n",
    "average_precision = average_precision_score(y_test, y_pred)\n",
    "\n",
    "print(f\"Accuracy: {accuracy:.2f}\")\n",
    "print(f\"Recall: {recall:.2f}\")\n",
    "print(f\"Precision: {precision:.2f}\")\n",
    "print(f\"Average Precision: {average_precision:.2f}\")"
   ]
  },
  {
   "cell_type": "code",
   "execution_count": null,
   "id": "f7e58e52",
   "metadata": {},
   "outputs": [],
   "source": [
    "img = io.imread(\"data/train/images/pos/0000.jpg\")\n",
    "labels = pd.read_csv(\"data/train/labels_csv/0000.csv\")"
   ]
  },
  {
   "cell_type": "code",
   "execution_count": null,
   "id": "3735d335",
   "metadata": {},
   "outputs": [
    {
     "name": "stdout",
     "output_type": "stream",
     "text": [
      "Calcul de l'IoU entre les fenetres :  [((0, 0), (20, 20), 0.52), ((0, 20), (20, 40), 0.52)] [((0, 0), (20, 20), 0.52), ((0, 40), (20, 60), 0.52)]\n"
     ]
    },
    {
     "ename": "TypeError",
     "evalue": "unsupported operand type(s) for -: 'tuple' and 'tuple'",
     "output_type": "error",
     "traceback": [
      "\u001b[31m---------------------------------------------------------------------------\u001b[39m",
      "\u001b[31mTypeError\u001b[39m                                 Traceback (most recent call last)",
      "\u001b[36mCell\u001b[39m\u001b[36m \u001b[39m\u001b[32mIn[7]\u001b[39m\u001b[32m, line 1\u001b[39m\n\u001b[32m----> \u001b[39m\u001b[32m1\u001b[39m detections = \u001b[43mdetect_ecocup\u001b[49m\u001b[43m(\u001b[49m\n\u001b[32m      2\u001b[39m \u001b[43m    \u001b[49m\u001b[43mimg\u001b[49m\u001b[43m,\u001b[49m\n\u001b[32m      3\u001b[39m \u001b[43m    \u001b[49m\u001b[43mclf\u001b[49m\u001b[43m,\u001b[49m\n\u001b[32m      4\u001b[39m \u001b[43m)\u001b[49m\n\u001b[32m      6\u001b[39m \u001b[38;5;28mprint\u001b[39m(detections)\n\u001b[32m      7\u001b[39m \u001b[38;5;28mprint\u001b[39m(labels)\n",
      "\u001b[36mFile \u001b[39m\u001b[32mc:\\Users\\engel\\OneDrive\\Documents\\Travail\\SY32\\projet\\code_projet\\SY32_detection_ecocup\\utils\\detection.py:191\u001b[39m, in \u001b[36mdetect_ecocup\u001b[39m\u001b[34m(img, classifier, img_target_shape)\u001b[39m\n\u001b[32m    188\u001b[39m         score_window_list.append(score_window_list_temp)\n\u001b[32m    190\u001b[39m \u001b[38;5;66;03m# Ne garder que les meilleures fenetres\u001b[39;00m\n\u001b[32m--> \u001b[39m\u001b[32m191\u001b[39m best_windows = \u001b[43mnon_maxima_suppression\u001b[49m\u001b[43m(\u001b[49m\u001b[43mscore_window_list\u001b[49m\u001b[43m)\u001b[49m\n\u001b[32m    193\u001b[39m \u001b[38;5;66;03m# Extraire les coordonnées des meilleures fenetres\u001b[39;00m\n\u001b[32m    194\u001b[39m best_coords = [(window[\u001b[32m0\u001b[39m], window[\u001b[32m1\u001b[39m]) \u001b[38;5;28;01mfor\u001b[39;00m window \u001b[38;5;129;01min\u001b[39;00m best_windows]\n",
      "\u001b[36mFile \u001b[39m\u001b[32mc:\\Users\\engel\\OneDrive\\Documents\\Travail\\SY32\\projet\\code_projet\\SY32_detection_ecocup\\utils\\detection.py:105\u001b[39m, in \u001b[36mnon_maxima_suppression\u001b[39m\u001b[34m(windows_list, decision_criteria)\u001b[39m\n\u001b[32m     98\u001b[39m \u001b[38;5;28;01mdef\u001b[39;00m\u001b[38;5;250m \u001b[39m\u001b[34mnon_maxima_suppression\u001b[39m(windows_list, decision_criteria=\u001b[32m0.5\u001b[39m):\n\u001b[32m     99\u001b[39m \u001b[38;5;250m    \u001b[39m\u001b[33;03m\"\"\"\u001b[39;00m\n\u001b[32m    100\u001b[39m \u001b[33;03m    Cet algorithme permet de supprimer les fenetres qui se recouvrent trop, en gardant la fenetre avec le score le plus haut.\u001b[39;00m\n\u001b[32m    101\u001b[39m \u001b[33;03m    :param windows_list: Liste de fenetres. Format ((upper_left_x, upper_left_y), (lower_right_x, lower_right_y), score).\u001b[39;00m\n\u001b[32m    102\u001b[39m \u001b[33;03m    :param score_list: Liste des scores associés aux fenetres.\u001b[39;00m\n\u001b[32m    103\u001b[39m \u001b[33;03m    :param decision_criteria: Seuil de recouvrement pour regrouper les fenetres.\u001b[39;00m\n\u001b[32m    104\u001b[39m \u001b[33;03m    \"\"\"\u001b[39;00m\n\u001b[32m--> \u001b[39m\u001b[32m105\u001b[39m     grouped_windows = \u001b[43mgroup_windows_by_iou\u001b[49m\u001b[43m(\u001b[49m\u001b[43mwindows_list\u001b[49m\u001b[43m,\u001b[49m\u001b[43m \u001b[49m\u001b[43mdecision_criteria\u001b[49m\u001b[43m)\u001b[49m\n\u001b[32m    106\u001b[39m     best_windows = []\n\u001b[32m    107\u001b[39m     \u001b[38;5;28;01mfor\u001b[39;00m group \u001b[38;5;129;01min\u001b[39;00m grouped_windows:\n",
      "\u001b[36mFile \u001b[39m\u001b[32mc:\\Users\\engel\\OneDrive\\Documents\\Travail\\SY32\\projet\\code_projet\\SY32_detection_ecocup\\utils\\detection.py:88\u001b[39m, in \u001b[36mgroup_windows_by_iou\u001b[39m\u001b[34m(windows_list, decision_criteria)\u001b[39m\n\u001b[32m     86\u001b[39m group = [current_window]  \u001b[38;5;66;03m# On commence avec la fenetre courante\u001b[39;00m\n\u001b[32m     87\u001b[39m \u001b[38;5;28;01mfor\u001b[39;00m compared_window \u001b[38;5;129;01min\u001b[39;00m windows_list:\n\u001b[32m---> \u001b[39m\u001b[32m88\u001b[39m     iou = \u001b[43mget_iou\u001b[49m\u001b[43m(\u001b[49m\u001b[43mcurrent_window\u001b[49m\u001b[43m[\u001b[49m\u001b[43m:\u001b[49m\u001b[32;43m2\u001b[39;49m\u001b[43m]\u001b[49m\u001b[43m,\u001b[49m\u001b[43m \u001b[49m\u001b[43mcompared_window\u001b[49m\u001b[43m[\u001b[49m\u001b[43m:\u001b[49m\u001b[32;43m2\u001b[39;49m\u001b[43m]\u001b[49m\u001b[43m)\u001b[49m\n\u001b[32m     89\u001b[39m     \u001b[38;5;28;01mif\u001b[39;00m iou > decision_criteria:\n\u001b[32m     90\u001b[39m         \u001b[38;5;66;03m# Si les fenetres dépassent le seuil de recouvrement, on les regroupe\u001b[39;00m\n\u001b[32m     91\u001b[39m         group.append(compared_window)\n",
      "\u001b[36mFile \u001b[39m\u001b[32mc:\\Users\\engel\\OneDrive\\Documents\\Travail\\SY32\\projet\\code_projet\\SY32_detection_ecocup\\utils\\detection.py:65\u001b[39m, in \u001b[36mget_iou\u001b[39m\u001b[34m(window1, window2)\u001b[39m\n\u001b[32m     55\u001b[39m upper_left_union = (\n\u001b[32m     56\u001b[39m     \u001b[38;5;28mmin\u001b[39m(upper_left_1[\u001b[32m0\u001b[39m], upper_left_2[\u001b[32m0\u001b[39m]),\n\u001b[32m     57\u001b[39m     \u001b[38;5;28mmin\u001b[39m(upper_left_1[\u001b[32m1\u001b[39m], upper_left_2[\u001b[32m1\u001b[39m]),\n\u001b[32m     58\u001b[39m )\n\u001b[32m     60\u001b[39m lower_right_union = (\n\u001b[32m     61\u001b[39m     \u001b[38;5;28mmax\u001b[39m(lower_right_1[\u001b[32m0\u001b[39m], lower_right_2[\u001b[32m0\u001b[39m]),\n\u001b[32m     62\u001b[39m     \u001b[38;5;28mmax\u001b[39m(lower_right_1[\u001b[32m1\u001b[39m], lower_right_2[\u001b[32m1\u001b[39m]),\n\u001b[32m     63\u001b[39m )\n\u001b[32m---> \u001b[39m\u001b[32m65\u001b[39m inter_width = \u001b[38;5;28mmax\u001b[39m(\u001b[32m0\u001b[39m, \u001b[43mlower_right_inter\u001b[49m\u001b[43m[\u001b[49m\u001b[32;43m0\u001b[39;49m\u001b[43m]\u001b[49m\u001b[43m \u001b[49m\u001b[43m-\u001b[49m\u001b[43m \u001b[49m\u001b[43mupper_left_inter\u001b[49m\u001b[43m[\u001b[49m\u001b[32;43m0\u001b[39;49m\u001b[43m]\u001b[49m)\n\u001b[32m     66\u001b[39m inter_height = \u001b[38;5;28mmax\u001b[39m(\u001b[32m0\u001b[39m, lower_right_inter[\u001b[32m1\u001b[39m] - upper_left_inter[\u001b[32m1\u001b[39m])\n\u001b[32m     67\u001b[39m union_width = \u001b[38;5;28mmax\u001b[39m(\u001b[32m0\u001b[39m, lower_right_union[\u001b[32m0\u001b[39m] - upper_left_union[\u001b[32m0\u001b[39m])\n",
      "\u001b[31mTypeError\u001b[39m: unsupported operand type(s) for -: 'tuple' and 'tuple'"
     ]
    }
   ],
   "source": [
    "detections = detect_ecocup(\n",
    "    img,\n",
    "    clf,\n",
    ")\n",
    "\n",
    "print(detections)\n",
    "print(labels)"
   ]
  },
  {
   "cell_type": "code",
   "execution_count": null,
   "id": "e535abaa",
   "metadata": {},
   "outputs": [],
   "source": [
    "from utils.detection import sliding_window\n",
    "\n",
    "parts, winds = sliding_window(img, 20, 20, 5, 5)"
   ]
  },
  {
   "cell_type": "code",
   "execution_count": null,
   "id": "1bd7fcf6",
   "metadata": {},
   "outputs": [
    {
     "name": "stdout",
     "output_type": "stream",
     "text": [
      "Calcul de l'IoU entre les fenetres :  ((0, 0), (20, 20)) ((0, 5), (20, 25))\n"
     ]
    }
   ],
   "source": [
    "from utils.detection import get_iou\n",
    "\n",
    "iou = get_iou(winds[0], winds[1])"
   ]
  },
  {
   "cell_type": "code",
   "execution_count": null,
   "id": "1c818c05",
   "metadata": {},
   "outputs": [
    {
     "data": {
      "text/plain": [
       "((0, 0), (20, 20))"
      ]
     },
     "execution_count": 18,
     "metadata": {},
     "output_type": "execute_result"
    }
   ],
   "source": [
    "winds[0]"
   ]
  },
  {
   "cell_type": "code",
   "execution_count": null,
   "id": "82d90246",
   "metadata": {},
   "outputs": [],
   "source": [
    "winds2 = []\n",
    "for wind in winds:\n",
    "    ulc = wind[0]\n",
    "    lrc = wind[1]\n",
    "    winds2.append((ulc, lrc, 0.4))"
   ]
  }
 ],
 "metadata": {
  "kernelspec": {
   "display_name": "Python 3",
   "language": "python",
   "name": "python3"
  },
  "language_info": {
   "codemirror_mode": {
    "name": "ipython",
    "version": 3
   },
   "file_extension": ".py",
   "mimetype": "text/x-python",
   "name": "python",
   "nbconvert_exporter": "python",
   "pygments_lexer": "ipython3",
   "version": "3.11.9"
  }
 },
 "nbformat": 4,
 "nbformat_minor": 5
}
