{
 "cells": [
  {
   "cell_type": "code",
   "execution_count": 1,
   "id": "0b34eb41",
   "metadata": {},
   "outputs": [],
   "source": [
    "import matplotlib.pyplot as plt\n",
    "from sklearn.svm import SVC\n",
    "import numpy as np\n",
    "import os\n",
    "from skimage.feature import hog"
   ]
  },
  {
   "cell_type": "markdown",
   "id": "eab01872",
   "metadata": {},
   "source": [
    "Chargement des données d'entraînement"
   ]
  },
  {
   "cell_type": "code",
   "execution_count": 2,
   "id": "0f956a65",
   "metadata": {},
   "outputs": [],
   "source": [
    "# Chargement des données\n",
    "pos_patch_fs = [f for f in  os.listdir(os.path.join(\"local_data\", \"4_normalized_patches\", \"pos\")) if f.endswith(\".jpg\")]\n",
    "neg_patch_fs = [f for f in  os.listdir(os.path.join(\"local_data\", \"4_normalized_patches\", \"neg\")) if f.endswith(\".jpg\")]\n",
    "\n",
    "pos_patchs = []\n",
    "neg_patchs = []\n",
    "\n",
    "for f in pos_patch_fs:\n",
    "    try:\n",
    "        patch = plt.imread(\n",
    "            os.path.join(\"local_data\", \"4_normalized_patches\", \"pos\", f)\n",
    "        )\n",
    "        pos_patchs.append(patch[:,:,0]) # le channel grayscale est dupliqué sur les 3 chanaux RGB (on en isole 1)\n",
    "\n",
    "    except FileNotFoundError:\n",
    "        continue\n",
    "\n",
    "for f in neg_patch_fs:\n",
    "    try:\n",
    "        patch = plt.imread(\n",
    "            os.path.join(\"local_data\", \"4_normalized_patches\", \"neg\", f)\n",
    "        )\n",
    "        neg_patchs.append(patch[:,:,0]) # le channel grayscale est dupliqué sur les 3 chanaux RGB (on en isole 1)\n",
    "\n",
    "    except FileNotFoundError:\n",
    "        continue\n",
    "\n",
    "nb_patchs_tot = len(pos_patchs) + len(neg_patchs)"
   ]
  },
  {
   "cell_type": "code",
   "execution_count": 3,
   "id": "5ce2fc93",
   "metadata": {},
   "outputs": [],
   "source": [
    "# Chargement des images ! (on utilse une partie du set d'entraînement comme validation aussi)\n",
    "pos_img_fs = [f for f in  os.listdir(os.path.join(\"local_data\", \"1_data_filtered\",\"train\",\"images\", \"pos\")) if f.endswith(\".jpg\")]\n",
    "neg_img_fs = [f for f in  os.listdir(os.path.join(\"local_data\", \"1_data_filtered\",\"train\",\"images\", \"neg\")) if f.endswith(\".jpg\")]\n",
    "\n",
    "pos_imgs = []\n",
    "neg_imgs = []\n",
    "\n",
    "for f in pos_img_fs:\n",
    "    try:\n",
    "        patch = plt.imread(\n",
    "            os.path.join(\"local_data\", \"1_data_filtered\",\"train\",\"images\", \"pos\", f)\n",
    "        )\n",
    "        pos_imgs.append(patch[:,:,0]) # le channel grayscale est dupliqué sur les 3 chanaux RGB (on en isole 1)\n",
    "\n",
    "    except FileNotFoundError:\n",
    "        continue\n",
    "\n",
    "for f in neg_img_fs:\n",
    "    try:\n",
    "        patch = plt.imread(\n",
    "            os.path.join(\"local_data\", \"1_data_filtered\",\"train\",\"images\", \"neg\", f)\n",
    "        )\n",
    "        neg_imgs.append(patch[:,:,0]) # le channel grayscale est dupliqué sur les 3 chanaux RGB (on en isole 1)\n",
    "\n",
    "    except FileNotFoundError:\n",
    "        continue\n",
    "\n",
    "nb_imgs_tot = len(pos_imgs) + len(neg_imgs)"
   ]
  },
  {
   "cell_type": "code",
   "execution_count": null,
   "id": "d22cbd57",
   "metadata": {},
   "outputs": [],
   "source": [
    "train_part = 80 / 100\n",
    "train_size = int(nb_imgs_tot * train_part)\n",
    "\n",
    "# Mélange des indices, pour que les données soient mélangées \"en même temps\" que les classes vérités\n",
    "rng = np.random.default_rng(seed=0)\n",
    "indices_images = np.arange(nb_imgs_tot)\n",
    "rng.shuffle(indices_images)\n",
    "\n",
    "# Fabrication des classes : 1 : positif, 0 : négatif\n",
    "y = []\n",
    "for _ in range(len(pos_patchs)):\n",
    "    y.append(1)\n",
    "\n",
    "for _ in range(len(neg_patchs)):\n",
    "    y.append(0)\n",
    "y_shuffled = np.array(y)[indices]\n",
    "y_train = y_shuffled[0:train_size]\n",
    "y_test = y_shuffled[train_size:]"
   ]
  },
  {
   "cell_type": "code",
   "execution_count": null,
   "id": "83898bd2",
   "metadata": {},
   "outputs": [],
   "source": [
    "train_part = 80 / 100\n",
    "train_size = int(nb_patchs_tot * train_part)\n",
    "\n",
    "# Mélange des indices, pour que les données soient mélangées \"en même temps\" que les classes vérités\n",
    "indices = np.arange(nb_patchs_tot)\n",
    "np.random.shuffle(indices)\n",
    "\n",
    "# Fabrication des classes : 1 : positif, 0 : négatif\n",
    "y = []\n",
    "for _ in range(len(pos_patchs)):\n",
    "    y.append(1)\n",
    "\n",
    "for _ in range(len(neg_patchs)):\n",
    "    y.append(0)\n",
    "y_shuffled = np.array(y)[indices]\n",
    "y_train = y_shuffled[0:train_size]\n",
    "y_test = y_shuffled[train_size:]"
   ]
  },
  {
   "cell_type": "markdown",
   "id": "7c62517f",
   "metadata": {},
   "source": [
    "Entraînement du classifieur sélectionné"
   ]
  },
  {
   "cell_type": "code",
   "execution_count": null,
   "id": "ecbca1cc",
   "metadata": {},
   "outputs": [],
   "source": [
    "# (TODO pour l'instant, on a sélectionner le SVC HOG, parce que c'est bon partout, mais peut-être à réétudier, il faudrait aussi optimiser les paramètres qui sont pour l'instant par défaut)\n",
    "\n",
    "print()\n"
   ]
  }
 ],
 "metadata": {
  "kernelspec": {
   "display_name": "venv",
   "language": "python",
   "name": "python3"
  },
  "language_info": {
   "codemirror_mode": {
    "name": "ipython",
    "version": 3
   },
   "file_extension": ".py",
   "mimetype": "text/x-python",
   "name": "python",
   "nbconvert_exporter": "python",
   "pygments_lexer": "ipython3",
   "version": "3.12.3"
  }
 },
 "nbformat": 4,
 "nbformat_minor": 5
}
